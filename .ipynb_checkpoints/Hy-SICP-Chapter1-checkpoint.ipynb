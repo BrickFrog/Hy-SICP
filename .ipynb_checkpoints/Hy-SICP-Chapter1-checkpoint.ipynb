{
 "cells": [
  {
   "cell_type": "markdown",
   "metadata": {},
   "source": [
    "# Structure and Interpretation of Computer Programs\n",
    "\n",
    "_Work in Progress_ by: Justin Malloy\n",
    "\n",
    "https://mitpress.mit.edu/sites/default/files/sicp/full-text/book/book.html"
   ]
  },
  {
   "cell_type": "markdown",
   "metadata": {},
   "source": [
    "# Ch 1) Building Abstractions with Procedures\n",
    "\n",
    "## Elements of Programming"
   ]
  },
  {
   "cell_type": "code",
   "execution_count": 168,
   "metadata": {},
   "outputs": [
    {
     "data": {
      "text/plain": [
       "[4, 8, 100, 4.0, 390]"
      ]
     },
     "execution_count": 168,
     "metadata": {},
     "output_type": "execute_result"
    }
   ],
   "source": [
    ";If you're not familiar with Lisp, the convention of delimiting an expression \n",
    "; with parenthesis are called *combinations*.\n",
    "\n",
    ";The leftmost element is the operator and the other elements are operands.\n",
    ";This additionally allows nesting to create  more complex expressions.\n",
    "\n",
    "\n",
    "(+ 2 2) ; 4\n",
    "\n",
    "(+ 4 4) ; 8\n",
    "\n",
    "(* 25 4) ; 100\n",
    "\n",
    "(/ 400 (* 25 4)) ; 4.0\n",
    "\n",
    "; tree accumulation, a general kind of problem where values percolate upwards from terminal nodes where \n",
    "; we must process each combination, on each element in the combination, this process is by its nature recursive\n",
    "\n",
    "(* (+ 2 (* 4 6))\n",
    "   (+ 3 5 7)); 390\n",
    "\n",
    "; e.g, 3+5+7 = 15, \n",
    ";          4*6=24, \n",
    ";            24 + 2 = 26,\n",
    ";                 26*15 = 390\n"
   ]
  },
  {
   "cell_type": "code",
   "execution_count": 59,
   "metadata": {
    "scrolled": true
   },
   "outputs": [
    {
     "data": {
      "text/plain": [
       "[None, None, 314.159]"
      ]
     },
     "execution_count": 59,
     "metadata": {},
     "output_type": "execute_result"
    }
   ],
   "source": [
    ";Unlike the Scheme variant of Lisp, which uses define, Hy uses setv to set a variable\n",
    "\n",
    "(setv pi 3.14159)\n",
    "(setv radius 10)\n",
    "(* pi (* radius radius))"
   ]
  },
  {
   "cell_type": "code",
   "execution_count": 68,
   "metadata": {},
   "outputs": [
    {
     "data": {
      "text/plain": [
       "[None, None, None, 25, 50, 136]"
      ]
     },
     "execution_count": 68,
     "metadata": {},
     "output_type": "execute_result"
    }
   ],
   "source": [
    "(defn square [x] (* x x))\n",
    "\n",
    "(defn sum-of-squares [x y]\n",
    "  (+ (square x) (square y)))\n",
    "\n",
    "(defn f [a]\n",
    "  (sum-of-squares (+ a 1) (* a 2)))\n",
    "\n",
    "(square 5)\n",
    "(sum-of-squares 5 5)\n",
    "(f 5)\n",
    "\n",
    "; as opposed to the tree method noted earlier, there's other ways to perform evaluation, where it could\n",
    "; substitute operand expressions for parameters until it obtained an expression involving only primitive\n",
    "; operators - fully expanding the arguments then applying is known as 'normal-order evaluation' as opposed\n",
    "; to 'applicative-order-evaluation' - generally, applicative order works for most and is what is used by\n",
    "; the interpreter, as the normal order would duplicate the (+ 5 1), and (* 5 2) in the above method.\n",
    "\n",
    "; -But- there are some edge cases where it can be valuable (see chapter 3/4 of SICP)"
   ]
  },
  {
   "cell_type": "code",
   "execution_count": 51,
   "metadata": {},
   "outputs": [
    {
     "data": {
      "text/plain": [
       "[None, None, None, 5, 42, 420]"
      ]
     },
     "execution_count": 51,
     "metadata": {},
     "output_type": "execute_result"
    }
   ],
   "source": [
    "; defn to define a method.\n",
    "; conditions allow the equivalent to an if else statement, where the conditions must be parsed as a list\n",
    "; The expressions are called clauses, where the first expression is called the predicate.\n",
    "; Predicates are statements that return true or false\n",
    "\n",
    "(defn abs [x]\n",
    "  (cond \n",
    "   [(> x 0) x]\n",
    "   [(= x 0) 0]\n",
    "   [(< x 0) (- x)]))\n",
    "\n",
    "; allows usage of 'else' familiar in other languages\n",
    "\n",
    "(defn abs2 [x]\n",
    "  (cond \n",
    "   [(< x 0) (- x)]\n",
    "        [else x]))\n",
    "\n",
    "; special form 'if' when there are preicsely two cases\n",
    "\n",
    "(defn abs3 [x]\n",
    "  (if (< x 0)\n",
    "      (- x)\n",
    "      x))\n",
    "\n",
    "\n",
    "(abs -5)\n",
    "(abs2 -42)\n",
    "(abs3 -420)"
   ]
  },
  {
   "cell_type": "code",
   "execution_count": 58,
   "metadata": {},
   "outputs": [
    {
     "data": {
      "text/plain": [
       "[None, False, True, True]"
      ]
     },
     "execution_count": 58,
     "metadata": {},
     "output_type": "execute_result"
    }
   ],
   "source": [
    ";logical composition operations that allow for more complex compound predicates include and, or, (and) not\n",
    "\n",
    "(setv x 4)\n",
    "\n",
    "(and (> x 5) (< x 10))\n",
    "\n",
    "(not (> x 5))\n",
    "\n",
    "(or (> x 5) (< x 10))"
   ]
  },
  {
   "cell_type": "code",
   "execution_count": 87,
   "metadata": {},
   "outputs": [
    {
     "data": {
      "text/plain": [
       "[None, None, 72]"
      ]
     },
     "execution_count": 87,
     "metadata": {},
     "output_type": "execute_result"
    }
   ],
   "source": [
    "; selected exercise 1.3\n",
    "\n",
    ";Define a procedure that takes three numbers as arguments\n",
    "; and returns the sum of the squares of the two larger numbers.\n",
    "\n",
    "(defn square [x] (* x x))\n",
    "(defn ltss [x y z] (+ (square (max x y))(square (max y z))))\n",
    "\n",
    "(ltss 3 6 4)"
   ]
  },
  {
   "cell_type": "code",
   "execution_count": 121,
   "metadata": {},
   "outputs": [
    {
     "data": {
      "text/plain": [
       "[None, None, None, None, None, 31622.776601683792]"
      ]
     },
     "execution_count": 121,
     "metadata": {},
     "output_type": "execute_result"
    }
   ],
   "source": [
    "; (define (sqrt-iter guess x)\n",
    ";  (if (good-enough? guess x)\n",
    ";      guess\n",
    ";      (sqrt-iter (improve guess x)\n",
    ";                 x)))\n",
    "\n",
    "(defn improve [guess x]\n",
    "  (average guess (/ x guess)))\n",
    "\n",
    "(defn average [x y]\n",
    "  (/ (+ x y) 2))\n",
    "\n",
    "(defn good-enough? [guess x]\n",
    "  (< (abs (- (square guess) x)) 0.00001))\n",
    "\n",
    "(defn sqrt-iter [guess x]\n",
    "      (if (good-enough? guess x) guess (sqrt-iter (improve guess x) x)))\n",
    "\n",
    "(defn sqrt [x]\n",
    "  (sqrt-iter 1.0 x))\n",
    "\n",
    "(sqrt 1000000000)"
   ]
  },
  {
   "cell_type": "code",
   "execution_count": 123,
   "metadata": {},
   "outputs": [
    {
     "data": {
      "text/plain": [
       "[None, 31622.776601683792]"
      ]
     },
     "execution_count": 123,
     "metadata": {},
     "output_type": "execute_result"
    }
   ],
   "source": [
    "; simplifying the above function with block structures and lexical scoping\n",
    "\n",
    "(defn sqrt [x]\n",
    "      (defn good-enough? [guess]\n",
    "            (< (abs (- (square guess) x)) 0.00001))\n",
    "      (defn improve [guess]\n",
    "            (average guess (/ x guess)))\n",
    "      (defn sqrt-iter [guess]\n",
    "            (if (good-enough? guess) \n",
    "                guess \n",
    "                (sqrt-iter (improve guess))))\n",
    "      (sqrt-iter 1.0))\n",
    "\n",
    "(sqrt 1000000000)"
   ]
  },
  {
   "cell_type": "markdown",
   "metadata": {},
   "source": [
    "## Procedures and the Processes They Generate"
   ]
  },
  {
   "cell_type": "code",
   "execution_count": 128,
   "metadata": {},
   "outputs": [
    {
     "data": {
      "text/plain": [
       "[None, 720]"
      ]
     },
     "execution_count": 128,
     "metadata": {},
     "output_type": "execute_result"
    }
   ],
   "source": [
    "; linear recursive process - requires keeping track of operations to be performed later on, linearly grows with n\n",
    "\n",
    "(defn factorial [n]\n",
    "  (if (= n 1)\n",
    "      1\n",
    "      (* n (factorial (- n 1)))))\n",
    "\n",
    "(factorial 6)"
   ]
  },
  {
   "cell_type": "code",
   "execution_count": 127,
   "metadata": {},
   "outputs": [
    {
     "data": {
      "text/plain": [
       "[None, None, 720]"
      ]
     },
     "execution_count": 127,
     "metadata": {},
     "output_type": "execute_result"
    }
   ],
   "source": [
    "; linear iterative process - all that needs to be tracked is product/counter/max-count \n",
    "\n",
    "(defn factorial2 [n]\n",
    "  (fact-iter 1 1 n))\n",
    "\n",
    "(defn fact-iter [product counter max-count]\n",
    "  (if (> counter max-count)\n",
    "      product\n",
    "      (fact-iter (* counter product)\n",
    "                 (+ counter 1)\n",
    "                 max-count)))\n",
    "\n",
    "(factorial2 6)"
   ]
  },
  {
   "cell_type": "code",
   "execution_count": 146,
   "metadata": {},
   "outputs": [
    {
     "data": {
      "text/plain": [
       "[None, None, None, 13, 13]"
      ]
     },
     "execution_count": 146,
     "metadata": {},
     "output_type": "execute_result"
    }
   ],
   "source": [
    "; tree recursion - grows exponentially -NOT- efficient\n",
    "\n",
    "(defn fib [n]\n",
    "  (cond [(= n 0) 0]\n",
    "        [(= n 1) 1]\n",
    "        [(+ (fib (- n 1))\n",
    "            (fib (- n 2)))]))\n",
    "\n",
    "\n",
    "; iterative process - linear growth, using state variables\n",
    "\n",
    "(defn fib2 [n]\n",
    "  (fib-iter 1 0 n))\n",
    "\n",
    "(defn fib-iter [a b count]\n",
    "  (if (= count 0)\n",
    "      b\n",
    "      (fib-iter (+ a b) a (- count 1))))\n",
    "\n",
    "(fib 7)\n",
    "(fib2 7 )\n",
    "\n",
    "; don't discount tree recursion completely - consider use on hierarchical structured data \n",
    "; also useful as starting point to wrap head around problem"
   ]
  },
  {
   "cell_type": "code",
   "execution_count": null,
   "metadata": {},
   "outputs": [],
   "source": []
  },
  {
   "cell_type": "code",
   "execution_count": null,
   "metadata": {},
   "outputs": [],
   "source": []
  }
 ],
 "metadata": {
  "kernelspec": {
   "display_name": "Calysto Hy",
   "language": "hy",
   "name": "calysto_hy"
  },
  "language_info": {
   "codemirror_mode": {
    "name": "scheme"
   },
   "mimetype": "text/x-hylang",
   "name": "hy",
   "pygments_lexer": "lisp"
  }
 },
 "nbformat": 4,
 "nbformat_minor": 2
}
